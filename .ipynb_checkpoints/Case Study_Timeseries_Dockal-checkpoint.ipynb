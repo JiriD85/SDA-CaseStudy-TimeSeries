{
 "cells": [
  {
   "cell_type": "code",
   "execution_count": 17,
   "id": "81780bc7",
   "metadata": {},
   "outputs": [],
   "source": [
    "import pandas as pd\n",
    "import numpy as np\n",
    "import matplotlib.pyplot as plt\n",
    "import datetime"
   ]
  },
  {
   "cell_type": "markdown",
   "id": "f4057f34",
   "metadata": {},
   "source": [
    "## Load Data"
   ]
  },
  {
   "cell_type": "code",
   "execution_count": 18,
   "id": "a0070923",
   "metadata": {},
   "outputs": [],
   "source": [
    "data_url1 = \"./sensor_data_temp.log\"\n",
    "df1 = pd.read_csv(data_url1, sep=\" \", header=None)"
   ]
  },
  {
   "cell_type": "code",
   "execution_count": 19,
   "id": "ebc76a5a",
   "metadata": {},
   "outputs": [
    {
     "data": {
      "text/html": [
       "<div>\n",
       "<style scoped>\n",
       "    .dataframe tbody tr th:only-of-type {\n",
       "        vertical-align: middle;\n",
       "    }\n",
       "\n",
       "    .dataframe tbody tr th {\n",
       "        vertical-align: top;\n",
       "    }\n",
       "\n",
       "    .dataframe thead th {\n",
       "        text-align: right;\n",
       "    }\n",
       "</style>\n",
       "<table border=\"1\" class=\"dataframe\">\n",
       "  <thead>\n",
       "    <tr style=\"text-align: right;\">\n",
       "      <th></th>\n",
       "      <th>0</th>\n",
       "      <th>1</th>\n",
       "      <th>2</th>\n",
       "      <th>3</th>\n",
       "      <th>4</th>\n",
       "    </tr>\n",
       "  </thead>\n",
       "  <tbody>\n",
       "    <tr>\n",
       "      <th>0</th>\n",
       "      <td>2022-09-14</td>\n",
       "      <td>19:33:07</td>\n",
       "      <td>T=22.0</td>\n",
       "      <td>H=20.0</td>\n",
       "      <td>TO=45</td>\n",
       "    </tr>\n",
       "    <tr>\n",
       "      <th>1</th>\n",
       "      <td>2022-09-14</td>\n",
       "      <td>19:38:10</td>\n",
       "      <td>T=22.0</td>\n",
       "      <td>H=20.0</td>\n",
       "      <td>TO=45</td>\n",
       "    </tr>\n",
       "    <tr>\n",
       "      <th>2</th>\n",
       "      <td>2022-09-14</td>\n",
       "      <td>19:43:11</td>\n",
       "      <td>T=22.0</td>\n",
       "      <td>H=26.0</td>\n",
       "      <td>TO=45</td>\n",
       "    </tr>\n",
       "    <tr>\n",
       "      <th>3</th>\n",
       "      <td>2022-09-14</td>\n",
       "      <td>19:48:14</td>\n",
       "      <td>T=22.0</td>\n",
       "      <td>H=26.0</td>\n",
       "      <td>TO=45</td>\n",
       "    </tr>\n",
       "    <tr>\n",
       "      <th>4</th>\n",
       "      <td>2022-09-14</td>\n",
       "      <td>19:53:15</td>\n",
       "      <td>T=22.0</td>\n",
       "      <td>H=20.0</td>\n",
       "      <td>TO=45</td>\n",
       "    </tr>\n",
       "    <tr>\n",
       "      <th>5</th>\n",
       "      <td>2022-09-14</td>\n",
       "      <td>19:58:15</td>\n",
       "      <td>T=22.0</td>\n",
       "      <td>H=23.0</td>\n",
       "      <td>TO=45</td>\n",
       "    </tr>\n",
       "    <tr>\n",
       "      <th>6</th>\n",
       "      <td>2022-09-14</td>\n",
       "      <td>20:03:16</td>\n",
       "      <td>T=22.0</td>\n",
       "      <td>H=20.0</td>\n",
       "      <td>TO=45</td>\n",
       "    </tr>\n",
       "    <tr>\n",
       "      <th>7</th>\n",
       "      <td>2022-09-14</td>\n",
       "      <td>20:08:17</td>\n",
       "      <td>T=22.0</td>\n",
       "      <td>H=23.0</td>\n",
       "      <td>TO=45</td>\n",
       "    </tr>\n",
       "    <tr>\n",
       "      <th>8</th>\n",
       "      <td>2022-09-14</td>\n",
       "      <td>20:13:17</td>\n",
       "      <td>T=21.0</td>\n",
       "      <td>H=20.0</td>\n",
       "      <td>TO=45</td>\n",
       "    </tr>\n",
       "    <tr>\n",
       "      <th>9</th>\n",
       "      <td>NaN</td>\n",
       "      <td>20:18:18</td>\n",
       "      <td>T=21.0</td>\n",
       "      <td>H=21.0</td>\n",
       "      <td>TO=45</td>\n",
       "    </tr>\n",
       "  </tbody>\n",
       "</table>\n",
       "</div>"
      ],
      "text/plain": [
       "            0         1       2       3      4\n",
       "0  2022-09-14  19:33:07  T=22.0  H=20.0  TO=45\n",
       "1  2022-09-14  19:38:10  T=22.0  H=20.0  TO=45\n",
       "2  2022-09-14  19:43:11  T=22.0  H=26.0  TO=45\n",
       "3  2022-09-14  19:48:14  T=22.0  H=26.0  TO=45\n",
       "4  2022-09-14  19:53:15  T=22.0  H=20.0  TO=45\n",
       "5  2022-09-14  19:58:15  T=22.0  H=23.0  TO=45\n",
       "6  2022-09-14  20:03:16  T=22.0  H=20.0  TO=45\n",
       "7  2022-09-14  20:08:17  T=22.0  H=23.0  TO=45\n",
       "8  2022-09-14  20:13:17  T=21.0  H=20.0  TO=45\n",
       "9         NaN  20:18:18  T=21.0  H=21.0  TO=45"
      ]
     },
     "execution_count": 19,
     "metadata": {},
     "output_type": "execute_result"
    }
   ],
   "source": [
    "df1.head(10)"
   ]
  },
  {
   "cell_type": "code",
   "execution_count": 20,
   "id": "316085a3",
   "metadata": {},
   "outputs": [
    {
     "name": "stdout",
     "output_type": "stream",
     "text": [
      "<class 'pandas.core.frame.DataFrame'>\n",
      "RangeIndex: 336 entries, 0 to 335\n",
      "Data columns (total 5 columns):\n",
      " #   Column  Non-Null Count  Dtype \n",
      "---  ------  --------------  ----- \n",
      " 0   0       335 non-null    object\n",
      " 1   1       336 non-null    object\n",
      " 2   2       336 non-null    object\n",
      " 3   3       320 non-null    object\n",
      " 4   4       282 non-null    object\n",
      "dtypes: object(5)\n",
      "memory usage: 13.2+ KB\n"
     ]
    }
   ],
   "source": [
    "df1.info()"
   ]
  },
  {
   "cell_type": "code",
   "execution_count": 21,
   "id": "48105461",
   "metadata": {},
   "outputs": [
    {
     "data": {
      "text/html": [
       "<div>\n",
       "<style scoped>\n",
       "    .dataframe tbody tr th:only-of-type {\n",
       "        vertical-align: middle;\n",
       "    }\n",
       "\n",
       "    .dataframe tbody tr th {\n",
       "        vertical-align: top;\n",
       "    }\n",
       "\n",
       "    .dataframe thead th {\n",
       "        text-align: right;\n",
       "    }\n",
       "</style>\n",
       "<table border=\"1\" class=\"dataframe\">\n",
       "  <thead>\n",
       "    <tr style=\"text-align: right;\">\n",
       "      <th></th>\n",
       "      <th>0</th>\n",
       "      <th>1</th>\n",
       "      <th>2</th>\n",
       "      <th>3</th>\n",
       "      <th>4</th>\n",
       "    </tr>\n",
       "  </thead>\n",
       "  <tbody>\n",
       "    <tr>\n",
       "      <th>count</th>\n",
       "      <td>335</td>\n",
       "      <td>336</td>\n",
       "      <td>336</td>\n",
       "      <td>320</td>\n",
       "      <td>282</td>\n",
       "    </tr>\n",
       "    <tr>\n",
       "      <th>unique</th>\n",
       "      <td>6</td>\n",
       "      <td>331</td>\n",
       "      <td>26</td>\n",
       "      <td>22</td>\n",
       "      <td>1</td>\n",
       "    </tr>\n",
       "    <tr>\n",
       "      <th>top</th>\n",
       "      <td>2022-09-15</td>\n",
       "      <td>23:08:46</td>\n",
       "      <td>T=21.0</td>\n",
       "      <td>H=21.0</td>\n",
       "      <td>TO=45</td>\n",
       "    </tr>\n",
       "    <tr>\n",
       "      <th>freq</th>\n",
       "      <td>284</td>\n",
       "      <td>2</td>\n",
       "      <td>41</td>\n",
       "      <td>52</td>\n",
       "      <td>282</td>\n",
       "    </tr>\n",
       "  </tbody>\n",
       "</table>\n",
       "</div>"
      ],
      "text/plain": [
       "                 0         1       2       3      4\n",
       "count          335       336     336     320    282\n",
       "unique           6       331      26      22      1\n",
       "top     2022-09-15  23:08:46  T=21.0  H=21.0  TO=45\n",
       "freq           284         2      41      52    282"
      ]
     },
     "execution_count": 21,
     "metadata": {},
     "output_type": "execute_result"
    }
   ],
   "source": [
    "df1.describe()"
   ]
  },
  {
   "cell_type": "code",
   "execution_count": 22,
   "id": "5d01ec08",
   "metadata": {},
   "outputs": [],
   "source": [
    "# Raname Columns\n",
    "df1.columns = ['Date', 'Time', 'Temp', 'Hum', 'TO']"
   ]
  },
  {
   "cell_type": "code",
   "execution_count": 23,
   "id": "3316093b",
   "metadata": {
    "scrolled": true
   },
   "outputs": [
    {
     "name": "stdout",
     "output_type": "stream",
     "text": [
      "Date - 0%\n",
      "Time - 0%\n",
      "Temp - 0%\n",
      "Hum - 5%\n",
      "TO - 16%\n"
     ]
    }
   ],
   "source": [
    "# Missing Values TEST\n",
    "for col in df1.columns:\n",
    "    pct_missing = np.mean(df1[col].isnull())\n",
    "    print('{} - {}%'.format(col, round(pct_missing*100)))"
   ]
  },
  {
   "cell_type": "code",
   "execution_count": 24,
   "id": "8c3b1db0",
   "metadata": {},
   "outputs": [],
   "source": [
    "data_url = \"./sensor_data_temp.log\"\n",
    "df = pd.read_csv(data_url, sep=\" \", header=None)"
   ]
  },
  {
   "cell_type": "code",
   "execution_count": null,
   "id": "c08f7f63",
   "metadata": {},
   "outputs": [],
   "source": []
  },
  {
   "cell_type": "code",
   "execution_count": 13,
   "id": "18caa9c9",
   "metadata": {},
   "outputs": [],
   "source": [
    "class CheckDataQuality:\n",
    "    def __init__(self, dataframe):\n",
    "        self.dataframe = dataframe\n",
    "        \n",
    "    def rename_columns(self):\n",
    "        try:\n",
    "            self.dataframe.columns = ['Date', 'Time', 'Temp', 'Hum', 'TO']\n",
    "            print(df)\n",
    "            return print(\"Columns renamed successfully!\")\n",
    "        except:\n",
    "            print(df)\n",
    "            return print(\"Something went wrong!\")\n",
    "        \n",
    "    def create_timestamp(self):\n",
    "        \n",
    "        \n",
    "    def check_duplicates(self):\n",
    "        if duplicates:\n",
    "            print(\"Duplicates found!\")\n",
    "        else:\n",
    "            print(\"No duplicates found!\")\n",
    "            \n",
    "    def check_timestamps(self):\n",
    "        if timestamps:\n",
    "            print(\"Incorrect timestamps found!\")\n",
    "        else:\n",
    "            print(\"No incorrect timestamps found!\")\n",
    "            \n",
    "    def check_missingvalues(self):\n",
    "        if missingvalues:\n",
    "            print(\"Missing values found!\")\n",
    "        else:\n",
    "            print(\"No missing values found!\")\n",
    "\n",
    "    def check_outliers(self):\n",
    "        if outliers:\n",
    "            print(\"Outliers found!\")\n",
    "        else:\n",
    "            print(\"No outliers found!\")\n",
    "            \n",
    "    def check_sensorquality(self):\n",
    "        if sensorquality:\n",
    "            print(\"Drifting values found!\")\n",
    "        else:\n",
    "            print(\"No drifting values found!\")\n",
    "            \n",
    "    def check_wrongvalues(self):\n",
    "        if wrongwalues:\n",
    "            print(\"Wrong values found!\")\n",
    "        else:\n",
    "            print(\"No wrong values found!\")\n",
    "        "
   ]
  },
  {
   "cell_type": "code",
   "execution_count": 14,
   "id": "63acb641",
   "metadata": {},
   "outputs": [],
   "source": [
    "test1 = CheckDataQuality(df)"
   ]
  },
  {
   "cell_type": "code",
   "execution_count": 15,
   "id": "82533972",
   "metadata": {},
   "outputs": [
    {
     "name": "stdout",
     "output_type": "stream",
     "text": [
      "           Date      Time    Temp     Hum     TO\n",
      "0    2022-09-14  19:33:07  T=22.0  H=20.0  TO=45\n",
      "1    2022-09-14  19:38:10  T=22.0  H=20.0  TO=45\n",
      "2    2022-09-14  19:43:11  T=22.0  H=26.0  TO=45\n",
      "3    2022-09-14  19:48:14  T=22.0  H=26.0  TO=45\n",
      "4    2022-09-14  19:53:15  T=22.0  H=20.0  TO=45\n",
      "..          ...       ...     ...     ...    ...\n",
      "331  2022-09-15  23:48:51  T=18.0  H=28.0  TO=45\n",
      "332  2022-09-15  23:53:51  T=18.0  H=22.0  TO=45\n",
      "333  2022-09-15  23:58:52  T=18.0  H=22.0  TO=45\n",
      "334  2022-09-16  00:03:52  T=18.0  H=22.0  TO=45\n",
      "335  2022-09-16  00:08:53  T=18.0  H=22.0  TO=45\n",
      "\n",
      "[336 rows x 5 columns]\n",
      "Columns renamed successfully!\n"
     ]
    }
   ],
   "source": [
    "test1.rename_columns()"
   ]
  },
  {
   "cell_type": "code",
   "execution_count": 16,
   "id": "5e99a7f5",
   "metadata": {},
   "outputs": [
    {
     "name": "stdout",
     "output_type": "stream",
     "text": [
      "           Date      Time    Temp     Hum     TO\n",
      "0    2022-09-14  19:33:07  T=22.0  H=20.0  TO=45\n",
      "1    2022-09-14  19:38:10  T=22.0  H=20.0  TO=45\n",
      "2    2022-09-14  19:43:11  T=22.0  H=26.0  TO=45\n",
      "3    2022-09-14  19:48:14  T=22.0  H=26.0  TO=45\n",
      "4    2022-09-14  19:53:15  T=22.0  H=20.0  TO=45\n",
      "..          ...       ...     ...     ...    ...\n",
      "331  2022-09-15  23:48:51  T=18.0  H=28.0  TO=45\n",
      "332  2022-09-15  23:53:51  T=18.0  H=22.0  TO=45\n",
      "333  2022-09-15  23:58:52  T=18.0  H=22.0  TO=45\n",
      "334  2022-09-16  00:03:52  T=18.0  H=22.0  TO=45\n",
      "335  2022-09-16  00:08:53  T=18.0  H=22.0  TO=45\n",
      "\n",
      "[336 rows x 5 columns]\n"
     ]
    }
   ],
   "source": [
    "print(df)"
   ]
  },
  {
   "cell_type": "code",
   "execution_count": null,
   "id": "700766be",
   "metadata": {},
   "outputs": [],
   "source": []
  },
  {
   "cell_type": "code",
   "execution_count": null,
   "id": "c0690e20",
   "metadata": {},
   "outputs": [],
   "source": []
  }
 ],
 "metadata": {
  "kernelspec": {
   "display_name": "Python 3 (ipykernel)",
   "language": "python",
   "name": "python3"
  },
  "language_info": {
   "codemirror_mode": {
    "name": "ipython",
    "version": 3
   },
   "file_extension": ".py",
   "mimetype": "text/x-python",
   "name": "python",
   "nbconvert_exporter": "python",
   "pygments_lexer": "ipython3",
   "version": "3.8.13"
  }
 },
 "nbformat": 4,
 "nbformat_minor": 5
}
