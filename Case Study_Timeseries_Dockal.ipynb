{
 "cells": [
  {
   "cell_type": "code",
   "execution_count": 1,
   "id": "81780bc7",
   "metadata": {},
   "outputs": [],
   "source": [
    "import pandas as pd\n",
    "import numpy as np\n",
    "import matplotlib.pyplot as plt\n",
    "import datetime\n",
    "from datetime import datetime\n",
    "from scipy import stats\n",
    "# import warnings\n",
    "# warnings.filterwarnings(action='ignore')"
   ]
  },
  {
   "cell_type": "markdown",
   "id": "f4057f34",
   "metadata": {},
   "source": [
    "## Load Data"
   ]
  },
  {
   "cell_type": "code",
   "execution_count": 23,
   "id": "3316093b",
   "metadata": {
    "scrolled": true
   },
   "outputs": [
    {
     "name": "stdout",
     "output_type": "stream",
     "text": [
      "Date - 0%\n",
      "Time - 0%\n",
      "Temp - 0%\n",
      "Hum - 5%\n",
      "TO - 16%\n"
     ]
    }
   ],
   "source": [
    "# Missing Values TEST\n",
    "for col in df1.columns:\n",
    "    pct_missing = np.mean(df1[col].isnull())\n",
    "    print('{} - {}%'.format(col, round(pct_missing*100)))"
   ]
  },
  {
   "cell_type": "code",
   "execution_count": 2,
   "id": "8c3b1db0",
   "metadata": {},
   "outputs": [
    {
     "data": {
      "text/html": [
       "<div>\n",
       "<style scoped>\n",
       "    .dataframe tbody tr th:only-of-type {\n",
       "        vertical-align: middle;\n",
       "    }\n",
       "\n",
       "    .dataframe tbody tr th {\n",
       "        vertical-align: top;\n",
       "    }\n",
       "\n",
       "    .dataframe thead th {\n",
       "        text-align: right;\n",
       "    }\n",
       "</style>\n",
       "<table border=\"1\" class=\"dataframe\">\n",
       "  <thead>\n",
       "    <tr style=\"text-align: right;\">\n",
       "      <th></th>\n",
       "      <th>0</th>\n",
       "      <th>1</th>\n",
       "      <th>2</th>\n",
       "      <th>3</th>\n",
       "      <th>4</th>\n",
       "    </tr>\n",
       "  </thead>\n",
       "  <tbody>\n",
       "    <tr>\n",
       "      <th>0</th>\n",
       "      <td>1022-09-14</td>\n",
       "      <td>19:33:07</td>\n",
       "      <td>T=22.0</td>\n",
       "      <td>H=20.0</td>\n",
       "      <td>TO=45</td>\n",
       "    </tr>\n",
       "  </tbody>\n",
       "</table>\n",
       "</div>"
      ],
      "text/plain": [
       "            0         1       2       3      4\n",
       "0  1022-09-14  19:33:07  T=22.0  H=20.0  TO=45"
      ]
     },
     "execution_count": 2,
     "metadata": {},
     "output_type": "execute_result"
    }
   ],
   "source": [
    "data_url = \"./sensor_data_temp.log\"\n",
    "df = pd.read_csv(data_url, sep=\" \", header=None, index_col=None)\n",
    "df.head(1)"
   ]
  },
  {
   "cell_type": "code",
   "execution_count": 3,
   "id": "67c178b9",
   "metadata": {},
   "outputs": [
    {
     "data": {
      "text/html": [
       "<div>\n",
       "<style scoped>\n",
       "    .dataframe tbody tr th:only-of-type {\n",
       "        vertical-align: middle;\n",
       "    }\n",
       "\n",
       "    .dataframe tbody tr th {\n",
       "        vertical-align: top;\n",
       "    }\n",
       "\n",
       "    .dataframe thead th {\n",
       "        text-align: right;\n",
       "    }\n",
       "</style>\n",
       "<table border=\"1\" class=\"dataframe\">\n",
       "  <thead>\n",
       "    <tr style=\"text-align: right;\">\n",
       "      <th></th>\n",
       "      <th>Date</th>\n",
       "      <th>Time</th>\n",
       "      <th>Temp</th>\n",
       "      <th>Hum</th>\n",
       "      <th>TO</th>\n",
       "    </tr>\n",
       "  </thead>\n",
       "  <tbody>\n",
       "    <tr>\n",
       "      <th>0</th>\n",
       "      <td>1022-09-14</td>\n",
       "      <td>19:33:07</td>\n",
       "      <td>T=22.0</td>\n",
       "      <td>H=20.0</td>\n",
       "      <td>TO=45</td>\n",
       "    </tr>\n",
       "  </tbody>\n",
       "</table>\n",
       "</div>"
      ],
      "text/plain": [
       "         Date      Time    Temp     Hum     TO\n",
       "0  1022-09-14  19:33:07  T=22.0  H=20.0  TO=45"
      ]
     },
     "execution_count": 3,
     "metadata": {},
     "output_type": "execute_result"
    }
   ],
   "source": [
    "# rename_columns\n",
    "df.columns = ['Date', 'Time', 'Temp', 'Hum', 'TO']\n",
    "df.head(1)"
   ]
  },
  {
   "cell_type": "code",
   "execution_count": 4,
   "id": "9a10e86a",
   "metadata": {},
   "outputs": [],
   "source": [
    "# Converting colums Date + Time to new column with pd.timestamp 'Datetime'\n",
    "df['Datetime'] = pd.to_datetime(df['Date'] + ' ' + df['Time'], errors=\"coerce\")"
   ]
  },
  {
   "cell_type": "code",
   "execution_count": 16,
   "id": "bb514aee",
   "metadata": {},
   "outputs": [],
   "source": [
    "# Function for checking if the datetime Timestamp is correct\n",
    "def is_valid_date(datecheck):\n",
    "    \"\"\" is_valid_date(datecheck)\n",
    "    Checks if the date is valid. Returns a boolean value. Datasets with years before 2000 are not valid. Dates in the future are not valid.\n",
    "\n",
    "    :param:     datecheck as pandas datetime with \"%Y-%m-%d %H:%M:%S\"\n",
    "    :returns:   a boolean value\n",
    "    :rtype:     bool\n",
    "    \"\"\"\n",
    "    try:\n",
    "        datecheck = pd.to_datetime(datecheck) \n",
    "        year = int(datecheck.strftime(\"%Y\"))\n",
    "        min_year = 2000\n",
    "        now = datetime.today()\n",
    "        return (min_year <= year and datecheck <= now)\n",
    "    except:\n",
    "        return print(\"Function is_valid_date: Something went wrong!\")"
   ]
  },
  {
   "cell_type": "code",
   "execution_count": 36,
   "id": "e689a8f3",
   "metadata": {},
   "outputs": [],
   "source": [
    "def calculate_mean_timegap(df):\n",
    "    \"\"\" calculate_mean_timegap(df)\n",
    "    Calculates the mean timegap between times\n",
    " \n",
    "    :param:     df\n",
    "    :returns:   mean timegap as timestamp\n",
    "    :rtype:     pd.timestamp\n",
    "    \"\"\"\n",
    "    try: \n",
    "        first_index = 0\n",
    "        last_index = len(df['Datetime'])-1\n",
    "        end_time = df['Datetime'][last_index]\n",
    "\n",
    "        # looking for first valid timestamp\n",
    "        for index in df.index:\n",
    "            start_time = df['Datetime'][first_index]\n",
    "            if np.isnat(np.datetime64(str(start_time))):\n",
    "                first_index+=1\n",
    "            else:\n",
    "                first_index = first_index\n",
    "        print(f\"First valid Timestamp: {start_time}, index: {first_index}\")\n",
    "\n",
    "        # looking for last valid timestamp\n",
    "        for index in df.index:\n",
    "            end_time = df['Datetime'][last_index]\n",
    "            if np.isnat(np.datetime64(str(end_time))):\n",
    "                last_index-=1\n",
    "            else:\n",
    "                last_index = last_index\n",
    "        print(f\"Last valid Timestamp: {end_time}, index: {last_index}\")\n",
    "\n",
    "        # calculating mean timegap between timestamps\n",
    "        mean_timegap = (end_time - start_time) / (last_index - first_index)\n",
    "        mean_timegap = pd.to_timedelta(str(mean_timegap)).round('1s')\n",
    "        print(mean_timegap)\n",
    "        return True\n",
    "    except:\n",
    "        return False"
   ]
  },
  {
   "cell_type": "code",
   "execution_count": 37,
   "id": "f9ee4b68",
   "metadata": {},
   "outputs": [
    {
     "name": "stdout",
     "output_type": "stream",
     "text": [
      "First valid Timestamp: 2022-09-14 19:48:14, index: 3\n",
      "Last valid Timestamp: 2022-09-16 00:03:52, index: 334\n",
      "0 days 00:05:07\n"
     ]
    },
    {
     "data": {
      "text/plain": [
       "True"
      ]
     },
     "execution_count": 37,
     "metadata": {},
     "output_type": "execute_result"
    }
   ],
   "source": [
    "calculate_mean_timegap(df)"
   ]
  },
  {
   "cell_type": "code",
   "execution_count": 30,
   "id": "59f91946",
   "metadata": {},
   "outputs": [],
   "source": [
    "# Function for replacing NaT with Timestamp values\n",
    "def replace_nat(dataframe, mean_timegap):\n",
    "    \"\"\" replace_nat(df, mean_timegap)\n",
    "    Checks the dataframe for NaT. Replaces NaT with calculated Timestamp values.\n",
    "\n",
    "    :param:     df = dataframe, mean_timegap = pandas datetime with \"%Y-%m-%d %H:%M:%S\"\n",
    "    :returns:   a boolean value\n",
    "    :rtype:     bool\n",
    "    \"\"\"    \n",
    "    try:\n",
    "        first_index = 0\n",
    "        last_index = len(df['Datetime'])-1\n",
    "        end_time = dataframe['Datetime'][last_index]\n",
    "        nat_index = []\n",
    "\n",
    "        # looking for first valid timestamp\n",
    "        for index in dataframe.index:\n",
    "            start_time = dataframe['Datetime'][first_index]\n",
    "            if np.isnat(np.datetime64(str(start_time))):\n",
    "                first_index+=1\n",
    "            else:\n",
    "                first_index = first_index\n",
    "        print(f\"First valid Timestamp: {start_time}, index: {first_index}\")\n",
    "\n",
    "        # looking for last valid timestamp\n",
    "        for index in dataframe.index:\n",
    "            end_time = dataframe['Datetime'][last_index]\n",
    "            if np.isnat(np.datetime64(str(end_time))):\n",
    "                last_index-=1\n",
    "            else:\n",
    "                last_index = last_index\n",
    "        print(f\"Last valid Timestamp: {end_time}, index: {last_index}\")\n",
    "\n",
    "        # checking for NaT\n",
    "        print(\"Checking for NaT:\")\n",
    "        for index in dataframe.index:\n",
    "            if np.isnat(np.datetime64(str(dataframe['Datetime'][index]))):\n",
    "                print(\"df[\" + str(index) + \"]['Datetime']=\" + str(dataframe['Datetime'][index]) + \": \" + str(np.isnat(np.datetime64(str(dataframe['Datetime'][index])))))\n",
    "                nat_index.append(index)\n",
    "        print(f\"Indices with NaT: {nat_index}\")\n",
    "            \n",
    "        # replacing NaT with calculated Timestamps\n",
    "        print(\"Replacing NaT with calculated Timestamps:\")\n",
    "        #for nat in reversed(nat_index):\n",
    "        for nat in nat_index[::-1]:\n",
    "            if (first_index < nat):\n",
    "                if not np.isnat(np.datetime64(str(dataframe['Datetime'][nat - 1]))):\n",
    "                    dataframe['Datetime'][nat] = dataframe['Datetime'][nat - 1] + mean_timegap\n",
    "                else: \n",
    "                    dataframe['Datetime'][nat] = dataframe['Datetime'][nat + 1] - mean_timegap\n",
    "            elif (first_index >= nat):\n",
    "                dataframe['Datetime'][nat] = dataframe['Datetime'][first_index] - mean_timegap\n",
    "                if first_index > 1:\n",
    "                    first_index-=1\n",
    "            else: \n",
    "                dataframe['Datetime'][nat] = dataframe['Datetime'][first_index] - mean_timegap\n",
    "        \n",
    "            print(\"Calculated Timestamp for: df[\" + str(nat) + \"]['Datetime']=\" + str(dataframe['Datetime'][nat]))\n",
    "        return dataframe                  \n",
    "    except:\n",
    "        return print(\"Function replace_nat: Something went wrong!\")"
   ]
  },
  {
   "cell_type": "code",
   "execution_count": 31,
   "id": "46ad8a10",
   "metadata": {},
   "outputs": [
    {
     "ename": "NameError",
     "evalue": "name 'calculate_mean_timegap' is not defined",
     "output_type": "error",
     "traceback": [
      "\u001b[1;31m---------------------------------------------------------------------------\u001b[0m",
      "\u001b[1;31mNameError\u001b[0m                                 Traceback (most recent call last)",
      "\u001b[1;32mc:\\Users\\jirid\\Documents\\Jupyter\\MIO3-SDA\\Case Study Time Series\\Case Study_Timeseries_Dockal.ipynb Zelle 11\u001b[0m in \u001b[0;36m<cell line: 2>\u001b[1;34m()\u001b[0m\n\u001b[0;32m      <a href='vscode-notebook-cell:/c%3A/Users/jirid/Documents/Jupyter/MIO3-SDA/Case%20Study%20Time%20Series/Case%20Study_Timeseries_Dockal.ipynb#X46sZmlsZQ%3D%3D?line=0'>1</a>\u001b[0m \u001b[39m#calculate_mean_timegap(df1)\u001b[39;00m\n\u001b[1;32m----> <a href='vscode-notebook-cell:/c%3A/Users/jirid/Documents/Jupyter/MIO3-SDA/Case%20Study%20Time%20Series/Case%20Study_Timeseries_Dockal.ipynb#X46sZmlsZQ%3D%3D?line=1'>2</a>\u001b[0m df \u001b[39m=\u001b[39m replace_nat(df, calculate_mean_timegap(df))\n",
      "\u001b[1;31mNameError\u001b[0m: name 'calculate_mean_timegap' is not defined"
     ]
    }
   ],
   "source": [
    "#calculate_mean_timegap(df1)\n",
    "df = replace_nat(df, calculate_mean_timegap(df))\n"
   ]
  },
  {
   "cell_type": "code",
   "execution_count": 10,
   "id": "4f8bf06b",
   "metadata": {},
   "outputs": [],
   "source": [
    "df.to_csv('./sensor_data_temp_corrected.log', index=False)"
   ]
  },
  {
   "cell_type": "code",
   "execution_count": 39,
   "id": "cf63bc06",
   "metadata": {},
   "outputs": [
    {
     "name": "stdout",
     "output_type": "stream",
     "text": [
      "Your string: 2019-02-28 27:02:58\n",
      "Your string_to_convert type: <class 'str'>\n",
      "Your new date is: NaT\n",
      "Your new type is: <class 'pandas._libs.tslibs.nattype.NaTType'>\n"
     ]
    }
   ],
   "source": [
    "str1 = '2019-02-28 27:02:58'\n",
    "print ('Your string: {}'.format(str1))\n",
    "print ('Your string_to_convert type: {}'.format(type(str1)))\n",
    "\n",
    "date1 = pd.to_datetime(str1, errors=\"coerce\")\n",
    "print ('Your new date is: {}'.format(date1))\n",
    "print ('Your new type is: {}'.format(type(date1)))\n",
    "\n"
   ]
  },
  {
   "cell_type": "code",
   "execution_count": 11,
   "id": "ef1af62a",
   "metadata": {},
   "outputs": [
    {
     "name": "stdout",
     "output_type": "stream",
     "text": [
      "Checking for valid date:\n",
      "df[162]['Datetime']=2032-09-15 09:31:05 is not valid! 2032-09-15 09:31:05\n",
      "df[162]['Datetime']=NaT\n",
      "First valid Timestamp: 2022-09-14 19:32:53, index: 0\n",
      "Last valid Timestamp: 2022-09-16 00:08:59, index: 335\n",
      "0 days 00:05:07.361194029\n",
      "First valid Timestamp: 2022-09-14 19:32:53, index: 0\n",
      "Last valid Timestamp: 2022-09-16 00:08:59, index: 335\n",
      "Checking for NaT:\n",
      "df[162]['Datetime']=NaT: True\n",
      "Indices with NaT: [162]\n",
      "Replacing NaT with calculated Timestamps:\n",
      "Calculated Timestamp for: df[162]['Datetime']=2022-09-15 09:31:11\n"
     ]
    }
   ],
   "source": [
    "# Converting Date to datetime, invalid parsing will be set as NaT\n",
    "# df['Datetime'] = pd.to_datetime(df['Date'] + ' ' + df['Time'], errors=\"coerce\")\n",
    "\n",
    "print(\"Checking for valid date:\")   \n",
    "for index in df.index:    \n",
    "    # Checking for valid dates\n",
    "    if not is_valid_date(np.datetime64(df['Datetime'][index])):\n",
    "        print(\"df[\" + str(index) + \"]['Datetime']=\" + str(df['Datetime'][index]) + \" is not valid! \"+ str(df['Datetime'][index]))\n",
    "        # Changing invalid Date to NaT\n",
    "        df['Datetime'][index] = str(\"NaT\")\n",
    "        print(\"df[\" + str(index) + \"]['Datetime']=\" + str(df['Datetime'][index]))\n",
    "        df = replace_nat(df, calculate_mean_timegap(df))\n",
    "        "
   ]
  },
  {
   "cell_type": "code",
   "execution_count": 27,
   "id": "18caa9c9",
   "metadata": {},
   "outputs": [],
   "source": [
    "class CheckDataQuality:\n",
    "    def __init__(self, dataframe):\n",
    "        self.dataframe = dataframe\n",
    "    \n",
    "    valid_temp = [-20, 50]  # Wertebereich Temperatur\n",
    "    valid_hum = [0, 100]    # Wertebereich Luftfeuchtigkeit\n",
    "      \n",
    "    def rename_columns(self):\n",
    "        \"\"\" rename_columns(df)\n",
    "        Renames the columns of the Dataset to ['Date', 'Time', 'Temp', 'Hum', 'TO']\n",
    "    \n",
    "        :param:     df\n",
    "        :returns:   a boolean value\n",
    "        :rtype:     bool\n",
    "        \"\"\"\n",
    "        try:\n",
    "            self.dataframe.columns = ['Date', 'Time', 'Temp', 'Hum', 'TO']\n",
    "            return True\n",
    "        except:\n",
    "            return False\n",
    "\n",
    "    def create_datetime(self):\n",
    "        \"\"\" create_datetime(df)\n",
    "        Creates a new column 'Datetime' from 'Date' and 'Time'. Drops columns 'Date' and 'Time'.\n",
    "    \n",
    "        :param:     df\n",
    "        :returns:   a boolean value\n",
    "        :rtype:     bool\n",
    "        \"\"\"\n",
    "        try:\n",
    "            # Converting colums Date + Time to new column with pd.timestamp 'Datetime'\n",
    "            self.dataframe['Datetime'] = pd.to_datetime(self.dataframe['Date'] + ' ' + self.dataframe['Time'], errors=\"coerce\")\n",
    "            # Dropping Columns Date and Time\n",
    "            self.dataframe = self.dataframe.drop(columns=['Date', 'Time'])\n",
    "            return True\n",
    "        except:\n",
    "            return False\n",
    "\n",
    "    def replace_nat(self):\n",
    "        \"\"\" replace_nat(df, mean_timegap)\n",
    "        Checks the dataframe for NaT. Replaces NaT with calculated Timestamp values.\n",
    "\n",
    "        :param:     df = dataframe, mean_timegap = pandas datetime with \"%Y-%m-%d %H:%M:%S\"\n",
    "        :returns:   a boolean value\n",
    "        :rtype:     bool\n",
    "        \"\"\"    \n",
    "        try:\n",
    "            first_index = 0\n",
    "            last_index = len(self.dataframe['Datetime'])-1\n",
    "            end_time = self.dataframe['Datetime'][last_index]\n",
    "            nat_index = []\n",
    "\n",
    "            # looking for first valid timestamp\n",
    "            for index in self.dataframe.index:\n",
    "                start_time = self.dataframe['Datetime'][first_index]\n",
    "                if np.isnat(np.datetime64(str(start_time))):\n",
    "                    first_index+=1\n",
    "                else:\n",
    "                    first_index = first_index\n",
    "            print(f\"First valid Timestamp: {start_time}, index: {first_index}\")\n",
    "\n",
    "            # looking for last valid timestamp\n",
    "            for index in self.dataframe.index:\n",
    "                end_time = self.dataframe['Datetime'][last_index]\n",
    "                if np.isnat(np.datetime64(str(end_time))):\n",
    "                    last_index-=1\n",
    "                else:\n",
    "                    last_index = last_index\n",
    "            print(f\"Last valid Timestamp: {end_time}, index: {last_index}\")\n",
    "\n",
    "            # calculating mean timegap between timestamps\n",
    "            mean_timegap = (end_time - start_time) / (last_index - first_index)\n",
    "            mean_timegap = pd.to_timedelta(str(mean_timegap)).round('1s')\n",
    "            print(f\"Mean Timegap: {mean_timegap}\")\n",
    "\n",
    "            # checking for NaT\n",
    "            print(\"Checking for NaT...\")\n",
    "            for index in self.dataframe.index:\n",
    "                if np.isnat(np.datetime64(str(self.dataframe['Datetime'][index]))):\n",
    "                    print(\"df[\" + str(index) + \"]['Datetime']=\" + str(self.dataframe['Datetime'][index]) + \": \" + str(np.isnat(np.datetime64(str(self.dataframe['Datetime'][index])))))\n",
    "                    nat_index.append(index)\n",
    "            print(f\"Indices with NaT: {nat_index}\")\n",
    "                \n",
    "            # replacing NaT with calculated Timestamps\n",
    "            print(\"Replacing NaT with calculated Timestamps...\")\n",
    "            #for nat in reversed(nat_index):\n",
    "            for nat in nat_index[::-1]:\n",
    "                if (first_index < nat):\n",
    "                    if not np.isnat(np.datetime64(str(self.dataframe['Datetime'][nat - 1]))):\n",
    "                        self.dataframe['Datetime'][nat] = self.dataframe['Datetime'][nat - 1] + mean_timegap\n",
    "                    else: \n",
    "                        self.dataframe['Datetime'][nat] = self.dataframe['Datetime'][nat + 1] - mean_timegap\n",
    "                elif (first_index >= nat):\n",
    "                    self.dataframe['Datetime'][nat] = self.dataframe['Datetime'][first_index] - mean_timegap\n",
    "                    if first_index > 1:\n",
    "                        first_index-=1\n",
    "                else: \n",
    "                    self.dataframe['Datetime'][nat] = self.dataframe['Datetime'][first_index] - mean_timegap\n",
    "            \n",
    "                print(\"Calculated Timestamp for: df[\" + str(nat) + \"]['Datetime']=\" + str(self.dataframe['Datetime'][nat]))\n",
    "            return True                  \n",
    "        except:\n",
    "            return False\n",
    "        \n",
    "    # def is_valid_date(datecheck):\n",
    "    #     \"\"\" is_valid_date(datecheck)\n",
    "    #     Checks if the date is valid. Returns a boolean value. Datasets with years before 2000 are not valid. Dates in the future are not valid.\n",
    "\n",
    "    #     :param:     datecheck as pandas datetime with \"%Y-%m-%d %H:%M:%S\"\n",
    "    #     :returns:   a boolean value\n",
    "    #     :rtype:     bool\n",
    "    #     \"\"\"\n",
    "    #     try:\n",
    "    #         datecheck = pd.to_datetime(datecheck) \n",
    "    #         year = int(datecheck.strftime(\"%Y\"))\n",
    "    #         min_year = 2000\n",
    "    #         now = datetime.today()\n",
    "    #         return (min_year <= year and datecheck <= now)\n",
    "    #     except:\n",
    "    #         return False\n",
    "\n",
    "    def check_valid_date(self):\n",
    "        \"\"\" check_valid_date(self)\n",
    "        Checks if the date is valid (calls is_valid_date). \n",
    "\n",
    "        :param:     df\n",
    "        :returns:   a boolean value\n",
    "        :rtype:     bool\n",
    "        \"\"\" \n",
    "        min_year = 2000\n",
    "        now = datetime.today()\n",
    "        try:\n",
    "            # 4. Checking for valid dates\n",
    "            for index in self.dataframe.index:    \n",
    "                # Checking for valid dates\n",
    "                datecheck = (self.dataframe['Datetime'][index])\n",
    "                year = int(datecheck.strftime(\"%Y\"))\n",
    "                if not (min_year <= year and datecheck <= now):\n",
    "                    print(\"df[\" + str(index) + \"]['Datetime']=\" + str(self.dataframe['Datetime'][index]) + \" is not valid! \"+ str(self.dataframe['Datetime'][index]))\n",
    "                    # Changing invalid Date to NaT\n",
    "                    self.dataframe['Datetime'][index] = str(\"NaT\")\n",
    "                    print(\"df[\" + str(index) + \"]['Datetime']=\" + str(self.dataframe['Datetime'][index]))\n",
    "                    # Calling replace_nat function\n",
    "                    print(\"Calling replace_nat Function\")         \n",
    "                    self.dataframe = replace_nat(self.dataframe)\n",
    "                    print(\"Returning from replace_nat function\")\n",
    "            print(\"All Dates are valid!\")\n",
    "            return True\n",
    "        except:\n",
    "            print(\"Dates are not valid!\")\n",
    "            return False\n",
    "\n",
    "    def change_index(self):\n",
    "        try:\n",
    "            print(\"Setting Datetime as index...\")\n",
    "            self.dataframe.set_index(pd.DatetimeIndex(df['Datetime'], inplace=True))\n",
    "            print(\"Reindexing columns...\")\n",
    "            column_names = [\"Datetime\", \"Temp\", \"Hum\", \"TO\"]\n",
    "            self.dataframe = self.dataframe.reindex(columns=column_names)\n",
    "            return True\n",
    "        except:\n",
    "            return False\n",
    "               \n",
    "    # Format Data Columns\n",
    "    def format_data_columns(self):\n",
    "        try:\n",
    "            # Replacing Strings in Temp and Hum, Dropping TO\n",
    "            print(\"Formatting Data Columns...\")\n",
    "            print(\"String Extraction...\")\n",
    "            self.dataframe['Temp'] = self.dataframe['Temp'].str.replace('T=', '')\n",
    "            self.dataframe['Hum'] = self.dataframe['Hum'].str.replace('H=', '')\n",
    "            print(\"Dropping Column TO...\")\n",
    "            self.dataframe = self.dataframe.drop(columns=['TO'])\n",
    "            # Convert each value of the column to a string\n",
    "            print(\"Converting from string to float...\")\n",
    "            self.dataframe['Temp'] = pd.to_numeric(self.dataframe['Temp'], errors='coerce')\n",
    "            self.dataframe['Hum'] = pd.to_numeric(self.dataframe['Hum'], errors='coerce')\n",
    "            # Replace empty string ('') with np.nan before convertion\n",
    "            self.dataframe['Temp'] = self.dataframe['Temp'].replace('',np.nan)\n",
    "            self.dataframe['Hum'] = self.dataframe['Hum'].replace('',np.nan)\n",
    "            print(\"Done!\")\n",
    "            return True\n",
    "        except:\n",
    "            return False\n",
    "\n",
    "    def replace_outliers(self): # Check: https://neuraldatascience.io/5-eda/data_cleaning.html\n",
    "        try:\n",
    "            print(\"Checking for outliers...\")\n",
    "            # Checking Z-Score < 3\n",
    "            #if np.abs(stats.zscore(self.dataframe['Hum']) < 3):\n",
    "            #outliers = np.abs(stats.zscore(self.dataframe['Hum']) < 3)\n",
    "            # Replacing Outliers with Z-Score > 3\n",
    "            #self.dataframe = self.dataframe.mask(self.dataframe.sub(self.dataframe.mean()).div(self.dataframe.std()).abs().gt(3))\n",
    "            self.dataframe = self.dataframe.mask(((self.dataframe < self.dataframe.quantile(0.05)) or (self.dataframe > self.dataframe.quantile(0.95))), np.nan, axis=1)\n",
    "            print(\"Done!\")\n",
    "            return True\n",
    "        except:\n",
    "            return False\n",
    "\n",
    "    def check_duplicates(self):\n",
    "        if duplicates:\n",
    "            print(\"Duplicates found!\")\n",
    "        else:\n",
    "            print(\"No duplicates found!\")\n",
    "            \n",
    "    def check_timestamps(self):\n",
    "        if timestamps:\n",
    "            print(\"Incorrect timestamps found!\")\n",
    "        else:\n",
    "            print(\"No incorrect timestamps found!\")\n",
    "            \n",
    "    def check_missingvalues(self):\n",
    "        if missingvalues:\n",
    "            print(\"Missing values found!\")\n",
    "        else:\n",
    "            print(\"No missing values found!\")\n",
    "\n",
    "    def check_outliers(self):\n",
    "        if outliers:\n",
    "            print(\"Outliers found!\")\n",
    "        else:\n",
    "            print(\"No outliers found!\")\n",
    "            \n",
    "    def check_sensorquality(self):\n",
    "        if sensorquality:\n",
    "            print(\"Drifting values found!\")\n",
    "        else:\n",
    "            print(\"No drifting values found!\")\n",
    "            \n",
    "    def check_wrongvalues(self):\n",
    "        if wrongwalues:\n",
    "            print(\"Wrong values found!\")\n",
    "        else:\n",
    "            print(\"No wrong values found!\")\n",
    "\n",
    "    def visualize(self):\n",
    "        if visualize:\n",
    "            print(\"Visualizing Data!\")\n",
    "        else:\n",
    "            print(\"Something went wrong!\")\n",
    "    \n",
    "    def export_new_file(self):\n",
    "        try:\n",
    "            print(\"Exporting corrected file...\")\n",
    "            self.dataframe.to_csv('./sensor_data_temp_corrected.log', index=False)\n",
    "            return True\n",
    "        except:\n",
    "            return False\n",
    "\n",
    "    def start(self):\n",
    "        rename_columns(self)\n",
    "\n",
    "        "
   ]
  },
  {
   "cell_type": "code",
   "execution_count": 4,
   "id": "63acb641",
   "metadata": {},
   "outputs": [],
   "source": [
    "test1 = CheckDataQuality(df)"
   ]
  },
  {
   "cell_type": "code",
   "execution_count": 5,
   "id": "fdc46d43",
   "metadata": {},
   "outputs": [],
   "source": [
    "def check_date():\n",
    "    print(\"TEST\")\n",
    "    try:\n",
    "        print(\"Starting check_date function...\")\n",
    "        # 1. Rename columns\n",
    "        if test1.rename_columns():\n",
    "            print(\"Columns renamed!\")\n",
    "        else:\n",
    "            print(\"Function rename_columns: Something went wrong!\")\n",
    "\n",
    "        # 2. Create Datetime column, drop Date and Time\n",
    "        if test1.create_datetime():\n",
    "            print(\"Datetime created. Date and Time dropped!\")\n",
    "        else:\n",
    "            print(\"Function create_datetime: Something went wrong!\") \n",
    "\n",
    "        # 3. Replace NaT with Timestamp\n",
    "        if test1.replace_nat():\n",
    "            print(\"All NaT values replaced!\")\n",
    "        else:\n",
    "            print(\"Function replace_nat: Something went wrong!\")\n",
    "        \n",
    "        # 4. Checking for valid dates\n",
    "        if test1.check_valid_date():\n",
    "            print(\"All Dates are valid!\")\n",
    "        else:\n",
    "            print(\"Function check_valid_date: Something went wrong!\")\n",
    "\n",
    "        # 5. Export new File\n",
    "        if test1.export_new_file():\n",
    "            print(\"File exported!\")\n",
    "        else:\n",
    "            print(\"Function export_new_file: Something went wrong!\")\n",
    "    except:\n",
    "        print(\"Function check_date: Something went wrong!\")"
   ]
  },
  {
   "cell_type": "code",
   "execution_count": 28,
   "id": "dcc982fa",
   "metadata": {},
   "outputs": [],
   "source": [
    "test3 = CheckDataQuality(df)"
   ]
  },
  {
   "cell_type": "code",
   "execution_count": 30,
   "id": "cf3972bb",
   "metadata": {},
   "outputs": [
    {
     "name": "stdout",
     "output_type": "stream",
     "text": [
      "First valid Timestamp: 2022-09-14 19:32:53, index: 0\n",
      "Last valid Timestamp: 2022-09-16 00:08:59, index: 335\n",
      "Mean Timegap: 0 days 00:05:07\n",
      "Checking for NaT...\n",
      "df[162]['Datetime']=NaT: True\n",
      "Indices with NaT: [162]\n",
      "Replacing NaT with calculated Timestamps...\n",
      "Calculated Timestamp for: df[162]['Datetime']=2022-09-15 09:31:11\n",
      "All Dates are valid!\n"
     ]
    },
    {
     "name": "stderr",
     "output_type": "stream",
     "text": [
      "C:\\Users\\jirid\\AppData\\Local\\Temp\\ipykernel_3396\\2651597816.py:90: SettingWithCopyWarning: \n",
      "A value is trying to be set on a copy of a slice from a DataFrame\n",
      "\n",
      "See the caveats in the documentation: https://pandas.pydata.org/pandas-docs/stable/user_guide/indexing.html#returning-a-view-versus-a-copy\n",
      "  self.dataframe['Datetime'][nat] = self.dataframe['Datetime'][nat - 1] + mean_timegap\n"
     ]
    },
    {
     "data": {
      "text/plain": [
       "True"
      ]
     },
     "execution_count": 30,
     "metadata": {},
     "output_type": "execute_result"
    }
   ],
   "source": [
    "test3.rename_columns()\n",
    "test3.create_datetime()\n",
    "test3.replace_nat()\n",
    "test3.check_valid_date()\n",
    "\n"
   ]
  },
  {
   "cell_type": "code",
   "execution_count": 31,
   "id": "8b9306f2",
   "metadata": {},
   "outputs": [
    {
     "name": "stdout",
     "output_type": "stream",
     "text": [
      "Setting Datetime as index...\n",
      "Formatting Data Columns...\n",
      "String Extraction...\n",
      "Dropping Column TO...\n",
      "Converting from string to float...\n",
      "Done!\n",
      "Checking for outliers...\n",
      "Exporting corrected file...\n"
     ]
    },
    {
     "name": "stderr",
     "output_type": "stream",
     "text": [
      "C:\\Users\\jirid\\AppData\\Local\\Temp\\ipykernel_3396\\2651597816.py:194: FutureWarning: Automatic reindexing on DataFrame vs Series comparisons is deprecated and will raise ValueError in a future version. Do `left, right = left.align(right, axis=1, copy=False)` before e.g. `left == right`\n",
      "  self.dataframe = self.dataframe.mask(((self.dataframe < self.dataframe.quantile(0.05)) or (self.dataframe > self.dataframe.quantile(0.95))), np.nan, axis=1)\n"
     ]
    },
    {
     "data": {
      "text/plain": [
       "True"
      ]
     },
     "execution_count": 31,
     "metadata": {},
     "output_type": "execute_result"
    }
   ],
   "source": [
    "test3.change_index()\n",
    "test3.format_data_columns()\n",
    "test3.replace_outliers()\n",
    "test3.export_new_file()"
   ]
  },
  {
   "cell_type": "code",
   "execution_count": 26,
   "id": "95cd5598",
   "metadata": {},
   "outputs": [
    {
     "name": "stdout",
     "output_type": "stream",
     "text": [
      "<class 'pandas.core.frame.DataFrame'>\n",
      "RangeIndex: 336 entries, 0 to 335\n",
      "Data columns (total 3 columns):\n",
      " #   Column    Non-Null Count  Dtype         \n",
      "---  ------    --------------  -----         \n",
      " 0   Temp      320 non-null    float64       \n",
      " 1   Hum       320 non-null    float64       \n",
      " 2   Datetime  336 non-null    datetime64[ns]\n",
      "dtypes: datetime64[ns](1), float64(2)\n",
      "memory usage: 8.0 KB\n"
     ]
    }
   ],
   "source": [
    "test3.dataframe.info()"
   ]
  },
  {
   "cell_type": "code",
   "execution_count": null,
   "id": "f69859f7",
   "metadata": {},
   "outputs": [],
   "source": []
  }
 ],
 "metadata": {
  "kernelspec": {
   "display_name": "Python 3.9.13 64-bit (microsoft store)",
   "language": "python",
   "name": "python3"
  },
  "language_info": {
   "codemirror_mode": {
    "name": "ipython",
    "version": 3
   },
   "file_extension": ".py",
   "mimetype": "text/x-python",
   "name": "python",
   "nbconvert_exporter": "python",
   "pygments_lexer": "ipython3",
   "version": "3.9.13"
  },
  "vscode": {
   "interpreter": {
    "hash": "85f1e0b17804e161ae8b48b570109b983c41823465e9a27fd67506d06c24b50e"
   }
  }
 },
 "nbformat": 4,
 "nbformat_minor": 5
}
